{
 "cells": [
  {
   "cell_type": "code",
   "execution_count": 1,
   "metadata": {},
   "outputs": [],
   "source": [
    "import os  \n",
    "import pandas #Python Data Analysis Library \n",
    "import numpy  #Python Scientific Library (Umumnya membantu dalam urusan list)\n",
    "import cv2 as opcv\n",
    "\n",
    "#Selective import modul-modul Scikit Learn \n",
    "#(Scikit Learn memiliki banyak modul machine learning)\n",
    "from sklearn import linear_model\n",
    "from sklearn.model_selection import train_test_split\n",
    "from sklearn.metrics import mean_squared_error   \n",
    "from matplotlib import pyplot\n",
    "from skimage.feature import local_binary_pattern\n",
    "\n",
    "#RUN\n",
    "import tensorflow as tf                                                          \n",
    "import keras_preprocessing                                                        \n",
    "from keras_preprocessing import image                                            \n",
    "from keras_preprocessing.image import ImageDataGenerator       "
   ]
  },
  {
   "cell_type": "code",
   "execution_count": 2,
   "metadata": {},
   "outputs": [],
   "source": [
    "#inisialisasi local binary pattern\n",
    "radius = 3\n",
    "n_points = 8 * radius\n",
    "METHOD = 'uniform'\n",
    "pyplot.rcParams['font.size'] = 9\n",
    "\n",
    "path = \"D:\\\\Download\\\\Compressed\\\\dataset_bola\\\\dataset_bola\\\\\""
   ]
  },
  {
   "cell_type": "code",
   "execution_count": 3,
   "metadata": {},
   "outputs": [],
   "source": [
    "#fungsi untuk preprocessing citra\n",
    "def praproses(x):\n",
    "    #aplikasi gaussian blur untukn smoothing citra dengan filter 3x3\n",
    "    gaussian = opcv.GaussianBlur(x, (3, 3), 0)\n",
    "    #return hasil citra\n",
    "    return gaussian\n",
    "\n",
    "def img_lbp_hos(source):\n",
    "    # proses ekstrasi ciri menggunakan lbp\n",
    "    lbp_array = local_binary_pattern(source, n_points, radius, METHOD)\n",
    "\n",
    "    return lbp_array"
   ]
  },
  {
   "cell_type": "code",
   "execution_count": 4,
   "metadata": {},
   "outputs": [],
   "source": [
    "dataset = []\n",
    "response = []\n",
    "\n",
    "j=0\n",
    "for folder in os.listdir(path):\n",
    "    # memnabaca setiap yang ada dalam \n",
    "    for filename in os.listdir(path+folder):\n",
    "        img = opcv.imread(path+folder+\"\\\\\"+filename,0)\n",
    "        \n",
    "        img = opcv.resize(img,(150,150))\n",
    "        \n",
    "\n",
    "        pre_img = praproses(img)\n",
    "        his_img = img_lbp_hos(pre_img)\n",
    "\n",
    "        dataset.append(his_img)\n",
    "        response.append(j)\n",
    "    j+=1\n",
    "\n",
    "dataset = numpy.array(dataset).astype(numpy.float32)\n",
    "response = numpy.array(response).astype(numpy.float32) "
   ]
  },
  {
   "cell_type": "code",
   "execution_count": 5,
   "metadata": {},
   "outputs": [
    {
     "name": "stdout",
     "output_type": "stream",
     "text": [
      "Model: \"sequential\"\n",
      "_________________________________________________________________\n",
      " Layer (type)                Output Shape              Param #   \n",
      "=================================================================\n",
      " conv2d (Conv2D)             (None, 148, 148, 16)      160       \n",
      "                                                                 \n",
      " max_pooling2d (MaxPooling2D  (None, 74, 74, 16)       0         \n",
      " )                                                               \n",
      "                                                                 \n",
      " conv2d_1 (Conv2D)           (None, 72, 72, 32)        4640      \n",
      "                                                                 \n",
      " max_pooling2d_1 (MaxPooling  (None, 36, 36, 32)       0         \n",
      " 2D)                                                             \n",
      "                                                                 \n",
      " conv2d_2 (Conv2D)           (None, 34, 34, 32)        9248      \n",
      "                                                                 \n",
      " max_pooling2d_2 (MaxPooling  (None, 17, 17, 32)       0         \n",
      " 2D)                                                             \n",
      "                                                                 \n",
      " flatten (Flatten)           (None, 9248)              0         \n",
      "                                                                 \n",
      " dropout (Dropout)           (None, 9248)              0         \n",
      "                                                                 \n",
      " dense (Dense)               (None, 128)               1183872   \n",
      "                                                                 \n",
      " dense_1 (Dense)             (None, 512)               66048     \n",
      "                                                                 \n",
      " dense_2 (Dense)             (None, 3)                 1539      \n",
      "                                                                 \n",
      "=================================================================\n",
      "Total params: 1,265,507\n",
      "Trainable params: 1,265,507\n",
      "Non-trainable params: 0\n",
      "_________________________________________________________________\n"
     ]
    }
   ],
   "source": [
    "model = tf.keras.models.Sequential([                                                  #Membentuk model sequential\n",
    "                                                                                      #Bentuk input adalah gambar dengan ukuran 150x150 dengan 3 byte warna\n",
    "    tf.keras.layers.Conv2D(16, (3,3), activation='relu', input_shape=(150, 150,1)),  #Layer Konvolusi pertama\n",
    "    tf.keras.layers.MaxPooling2D(2, 2),\n",
    "    \n",
    "    tf.keras.layers.Conv2D(32, (3,3), activation='relu'),                             #Layer Konvolusi kedua\n",
    "    tf.keras.layers.MaxPooling2D(2,2), \n",
    "    \n",
    "    tf.keras.layers.Conv2D(32, (3,3), activation='relu'),                             #Layer Konvolusi ketiga\n",
    "    tf.keras.layers.MaxPooling2D(2,2),\n",
    "    \n",
    "    tf.keras.layers.Flatten(),                                                        #Layer input untuk Deep Learning Neural Network\n",
    "    tf.keras.layers.Dropout(0.5),\n",
    "    \n",
    "    tf.keras.layers.Dense(128, activation='relu'),                                   #Hiden layer pertama dengan 512 neuron\n",
    "    \n",
    "    tf.keras.layers.Dense(512, activation='relu'),                                   #Hiden layer kedua dengan 512 neuron\n",
    "    \n",
    "    tf.keras.layers.Dense(3, activation='softmax')                                   #Layer output\n",
    "])\n",
    "\n",
    "model.summary()                                                                      #Menampilkan summary model\n",
    "Model: \"sequential_2\""
   ]
  },
  {
   "cell_type": "code",
   "execution_count": 6,
   "metadata": {},
   "outputs": [],
   "source": [
    "train_list, test_list, train_res, test_res = train_test_split(dataset, response, test_size=0.2, random_state=0)"
   ]
  },
  {
   "cell_type": "code",
   "execution_count": 7,
   "metadata": {},
   "outputs": [],
   "source": [
    "#RUN\n",
    "model.compile(loss=tf.keras.losses.SparseCategoricalCrossentropy(from_logits=True),                                  #Loss function Yang digunakan untuk Klasifikasi Kategori Lebih Dari 2\n",
    "              optimizer='rmsprop',                                                #Fungsi optimizer(Yang Pernah diajarkan adalah 'adam')\n",
    "              metrics=['accuracy'])                                               #Menampilkan akurasi model training"
   ]
  },
  {
   "cell_type": "code",
   "execution_count": 8,
   "metadata": {},
   "outputs": [
    {
     "name": "stdout",
     "output_type": "stream",
     "text": [
      "Epoch 1/100\n"
     ]
    },
    {
     "name": "stderr",
     "output_type": "stream",
     "text": [
      "c:\\Users\\V3Te\\AppData\\Local\\Programs\\Python\\Python310\\lib\\site-packages\\tensorflow\\python\\util\\dispatch.py:1082: UserWarning: \"`sparse_categorical_crossentropy` received `from_logits=True`, but the `output` argument was produced by a sigmoid or softmax activation and thus does not represent logits. Was this intended?\"\n",
      "  return dispatch_target(*args, **kwargs)\n"
     ]
    },
    {
     "name": "stdout",
     "output_type": "stream",
     "text": [
      "4/4 [==============================] - 3s 548ms/step - loss: 6.6404 - accuracy: 0.3500 - val_loss: 1.1720 - val_accuracy: 0.3667\n",
      "Epoch 2/100\n",
      "4/4 [==============================] - 2s 439ms/step - loss: 1.2062 - accuracy: 0.3833 - val_loss: 1.0807 - val_accuracy: 0.3667\n",
      "Epoch 3/100\n",
      "4/4 [==============================] - 2s 440ms/step - loss: 1.0936 - accuracy: 0.3667 - val_loss: 1.1002 - val_accuracy: 0.3667\n",
      "Epoch 4/100\n",
      "4/4 [==============================] - 2s 418ms/step - loss: 1.0725 - accuracy: 0.5167 - val_loss: 1.1292 - val_accuracy: 0.4000\n",
      "Epoch 5/100\n",
      "4/4 [==============================] - 2s 429ms/step - loss: 0.9586 - accuracy: 0.5583 - val_loss: 1.6585 - val_accuracy: 0.4333\n",
      "Epoch 6/100\n",
      "4/4 [==============================] - 2s 386ms/step - loss: 1.1514 - accuracy: 0.4500 - val_loss: 1.1502 - val_accuracy: 0.3333\n",
      "Epoch 7/100\n",
      "4/4 [==============================] - 2s 445ms/step - loss: 0.9549 - accuracy: 0.5417 - val_loss: 1.0913 - val_accuracy: 0.3667\n",
      "Epoch 8/100\n",
      "4/4 [==============================] - 2s 441ms/step - loss: 0.8269 - accuracy: 0.6917 - val_loss: 0.9610 - val_accuracy: 0.5667\n",
      "Epoch 9/100\n",
      "4/4 [==============================] - 2s 433ms/step - loss: 0.6108 - accuracy: 0.7583 - val_loss: 1.0706 - val_accuracy: 0.5667\n",
      "Epoch 10/100\n",
      "4/4 [==============================] - 2s 460ms/step - loss: 0.7806 - accuracy: 0.7083 - val_loss: 1.2152 - val_accuracy: 0.5333\n",
      "Epoch 11/100\n",
      "4/4 [==============================] - 2s 533ms/step - loss: 0.8016 - accuracy: 0.7500 - val_loss: 2.3435 - val_accuracy: 0.3667\n",
      "Epoch 12/100\n",
      "4/4 [==============================] - 2s 543ms/step - loss: 0.7860 - accuracy: 0.7583 - val_loss: 0.8740 - val_accuracy: 0.6333\n",
      "Epoch 13/100\n",
      "4/4 [==============================] - 2s 557ms/step - loss: 0.3749 - accuracy: 0.8333 - val_loss: 1.2381 - val_accuracy: 0.3667\n",
      "Epoch 14/100\n",
      "4/4 [==============================] - 2s 425ms/step - loss: 0.2475 - accuracy: 0.9667 - val_loss: 0.7177 - val_accuracy: 0.8000\n",
      "Epoch 15/100\n",
      "4/4 [==============================] - 2s 467ms/step - loss: 0.2056 - accuracy: 0.9333 - val_loss: 0.7167 - val_accuracy: 0.7667\n",
      "Epoch 16/100\n",
      "4/4 [==============================] - 2s 438ms/step - loss: 0.0762 - accuracy: 0.9917 - val_loss: 2.1318 - val_accuracy: 0.4667\n",
      "Epoch 17/100\n",
      "4/4 [==============================] - 2s 411ms/step - loss: 1.0093 - accuracy: 0.6833 - val_loss: 1.7062 - val_accuracy: 0.4333\n",
      "Epoch 18/100\n",
      "4/4 [==============================] - 2s 430ms/step - loss: 0.3887 - accuracy: 0.8333 - val_loss: 2.5232 - val_accuracy: 0.3667\n",
      "Epoch 19/100\n",
      "4/4 [==============================] - 2s 429ms/step - loss: 0.6416 - accuracy: 0.8167 - val_loss: 0.9115 - val_accuracy: 0.5667\n",
      "Epoch 20/100\n",
      "4/4 [==============================] - 2s 594ms/step - loss: 0.0893 - accuracy: 1.0000 - val_loss: 1.3957 - val_accuracy: 0.4333\n",
      "Epoch 21/100\n",
      "4/4 [==============================] - 2s 628ms/step - loss: 0.0331 - accuracy: 1.0000 - val_loss: 1.1209 - val_accuracy: 0.5667\n",
      "Epoch 22/100\n",
      "4/4 [==============================] - 2s 587ms/step - loss: 0.0125 - accuracy: 1.0000 - val_loss: 1.1973 - val_accuracy: 0.5667\n",
      "Epoch 23/100\n",
      "4/4 [==============================] - 2s 477ms/step - loss: 0.0067 - accuracy: 1.0000 - val_loss: 1.0685 - val_accuracy: 0.6333\n",
      "Epoch 24/100\n",
      "4/4 [==============================] - 2s 476ms/step - loss: 0.0033 - accuracy: 1.0000 - val_loss: 1.1993 - val_accuracy: 0.6000\n",
      "Epoch 25/100\n",
      "4/4 [==============================] - 2s 476ms/step - loss: 0.0027 - accuracy: 1.0000 - val_loss: 0.8720 - val_accuracy: 0.7667\n",
      "Epoch 26/100\n",
      "4/4 [==============================] - 2s 506ms/step - loss: 0.0363 - accuracy: 0.9833 - val_loss: 12.2740 - val_accuracy: 0.2000\n",
      "Epoch 27/100\n",
      "4/4 [==============================] - 2s 486ms/step - loss: 3.5608 - accuracy: 0.4417 - val_loss: 1.0068 - val_accuracy: 0.6000\n",
      "Epoch 28/100\n",
      "4/4 [==============================] - 2s 468ms/step - loss: 0.0735 - accuracy: 0.9917 - val_loss: 0.9071 - val_accuracy: 0.6667\n",
      "Epoch 29/100\n",
      "4/4 [==============================] - 2s 547ms/step - loss: 0.0425 - accuracy: 0.9917 - val_loss: 1.2905 - val_accuracy: 0.5667\n",
      "Epoch 30/100\n",
      "4/4 [==============================] - 2s 514ms/step - loss: 0.0093 - accuracy: 1.0000 - val_loss: 1.4374 - val_accuracy: 0.5667\n",
      "Epoch 31/100\n",
      "4/4 [==============================] - 2s 497ms/step - loss: 0.0052 - accuracy: 1.0000 - val_loss: 1.4684 - val_accuracy: 0.5667\n",
      "Epoch 32/100\n",
      "4/4 [==============================] - 2s 505ms/step - loss: 0.0037 - accuracy: 1.0000 - val_loss: 1.6148 - val_accuracy: 0.5000\n",
      "Epoch 33/100\n",
      "4/4 [==============================] - 2s 452ms/step - loss: 0.0027 - accuracy: 1.0000 - val_loss: 1.5137 - val_accuracy: 0.5333\n",
      "Epoch 34/100\n",
      "4/4 [==============================] - 2s 534ms/step - loss: 0.0015 - accuracy: 1.0000 - val_loss: 1.9274 - val_accuracy: 0.5333\n",
      "Epoch 35/100\n",
      "4/4 [==============================] - 2s 459ms/step - loss: 9.8534e-04 - accuracy: 1.0000 - val_loss: 1.4281 - val_accuracy: 0.5667\n",
      "Epoch 36/100\n",
      "4/4 [==============================] - 2s 513ms/step - loss: 0.0012 - accuracy: 1.0000 - val_loss: 1.6214 - val_accuracy: 0.6000\n",
      "Epoch 37/100\n",
      "4/4 [==============================] - 2s 491ms/step - loss: 4.6311e-04 - accuracy: 1.0000 - val_loss: 1.7705 - val_accuracy: 0.5333\n",
      "Epoch 38/100\n",
      "4/4 [==============================] - 2s 503ms/step - loss: 3.2795e-04 - accuracy: 1.0000 - val_loss: 1.5992 - val_accuracy: 0.6000\n",
      "Epoch 39/100\n",
      "4/4 [==============================] - 2s 448ms/step - loss: 1.3565 - accuracy: 0.7583 - val_loss: 4.0076 - val_accuracy: 0.4333\n",
      "Epoch 40/100\n",
      "4/4 [==============================] - 2s 440ms/step - loss: 1.3717 - accuracy: 0.8000 - val_loss: 0.9287 - val_accuracy: 0.6667\n",
      "Epoch 41/100\n",
      "4/4 [==============================] - 2s 473ms/step - loss: 0.0504 - accuracy: 1.0000 - val_loss: 1.0833 - val_accuracy: 0.5333\n",
      "Epoch 42/100\n",
      "4/4 [==============================] - 2s 441ms/step - loss: 0.0094 - accuracy: 1.0000 - val_loss: 1.0008 - val_accuracy: 0.6333\n",
      "Epoch 43/100\n",
      "4/4 [==============================] - 2s 491ms/step - loss: 0.0072 - accuracy: 1.0000 - val_loss: 1.0524 - val_accuracy: 0.6667\n",
      "Epoch 44/100\n",
      "4/4 [==============================] - 2s 510ms/step - loss: 0.0030 - accuracy: 1.0000 - val_loss: 1.1273 - val_accuracy: 0.6333\n",
      "Epoch 45/100\n",
      "4/4 [==============================] - 2s 441ms/step - loss: 0.0017 - accuracy: 1.0000 - val_loss: 1.0160 - val_accuracy: 0.6333\n",
      "Epoch 46/100\n",
      "4/4 [==============================] - 2s 405ms/step - loss: 5.9120e-04 - accuracy: 1.0000 - val_loss: 1.1583 - val_accuracy: 0.6333\n",
      "Epoch 47/100\n",
      "4/4 [==============================] - 2s 428ms/step - loss: 5.5908e-04 - accuracy: 1.0000 - val_loss: 2.0318 - val_accuracy: 0.5333\n",
      "Epoch 48/100\n",
      "4/4 [==============================] - 2s 452ms/step - loss: 4.6187e-04 - accuracy: 1.0000 - val_loss: 1.3471 - val_accuracy: 0.6000\n",
      "Epoch 49/100\n",
      "4/4 [==============================] - 2s 435ms/step - loss: 4.0797e-04 - accuracy: 1.0000 - val_loss: 1.7136 - val_accuracy: 0.5000\n",
      "Epoch 50/100\n",
      "4/4 [==============================] - 2s 420ms/step - loss: 3.7324e-04 - accuracy: 1.0000 - val_loss: 1.1001 - val_accuracy: 0.6667\n",
      "Epoch 51/100\n",
      "4/4 [==============================] - 2s 406ms/step - loss: 3.7438e-04 - accuracy: 1.0000 - val_loss: 1.2879 - val_accuracy: 0.6333\n",
      "Epoch 52/100\n",
      "4/4 [==============================] - 3s 684ms/step - loss: 2.6242e-04 - accuracy: 1.0000 - val_loss: 1.1841 - val_accuracy: 0.6667\n",
      "Epoch 53/100\n",
      "4/4 [==============================] - 3s 688ms/step - loss: 0.1855 - accuracy: 0.9583 - val_loss: 17.7496 - val_accuracy: 0.2000\n",
      "Epoch 54/100\n",
      "4/4 [==============================] - 2s 605ms/step - loss: 2.4061 - accuracy: 0.7917 - val_loss: 1.1334 - val_accuracy: 0.6667\n",
      "Epoch 55/100\n",
      "4/4 [==============================] - 2s 548ms/step - loss: 0.0070 - accuracy: 1.0000 - val_loss: 1.1103 - val_accuracy: 0.7000\n",
      "Epoch 56/100\n",
      "4/4 [==============================] - 2s 604ms/step - loss: 0.0014 - accuracy: 1.0000 - val_loss: 1.4621 - val_accuracy: 0.6667\n",
      "Epoch 57/100\n",
      "4/4 [==============================] - 2s 551ms/step - loss: 5.5041e-04 - accuracy: 1.0000 - val_loss: 1.4151 - val_accuracy: 0.6667\n",
      "Epoch 58/100\n",
      "4/4 [==============================] - 2s 587ms/step - loss: 3.2876e-04 - accuracy: 1.0000 - val_loss: 1.4584 - val_accuracy: 0.6667\n",
      "Epoch 59/100\n",
      "4/4 [==============================] - 2s 593ms/step - loss: 3.6019e-04 - accuracy: 1.0000 - val_loss: 1.5035 - val_accuracy: 0.6667\n",
      "Epoch 60/100\n",
      "4/4 [==============================] - 2s 598ms/step - loss: 1.1896e-04 - accuracy: 1.0000 - val_loss: 1.4909 - val_accuracy: 0.6667\n",
      "Epoch 61/100\n",
      "4/4 [==============================] - 2s 606ms/step - loss: 7.1228e-05 - accuracy: 1.0000 - val_loss: 1.5862 - val_accuracy: 0.6667\n",
      "Epoch 62/100\n",
      "4/4 [==============================] - 2s 610ms/step - loss: 3.9384e-04 - accuracy: 1.0000 - val_loss: 1.7194 - val_accuracy: 0.6333\n",
      "Epoch 63/100\n",
      "4/4 [==============================] - 2s 620ms/step - loss: 1.0479e-04 - accuracy: 1.0000 - val_loss: 1.9090 - val_accuracy: 0.6000\n",
      "Epoch 64/100\n",
      "4/4 [==============================] - 2s 595ms/step - loss: 9.4616e-05 - accuracy: 1.0000 - val_loss: 1.8010 - val_accuracy: 0.6667\n",
      "Epoch 65/100\n",
      "4/4 [==============================] - 2s 638ms/step - loss: 3.6190e-05 - accuracy: 1.0000 - val_loss: 1.7765 - val_accuracy: 0.6667\n",
      "Epoch 66/100\n",
      "4/4 [==============================] - 3s 622ms/step - loss: 2.0029e-05 - accuracy: 1.0000 - val_loss: 1.6946 - val_accuracy: 0.6667\n",
      "Epoch 67/100\n",
      "4/4 [==============================] - 2s 603ms/step - loss: 1.8588e-05 - accuracy: 1.0000 - val_loss: 1.7759 - val_accuracy: 0.6667\n",
      "Epoch 68/100\n",
      "4/4 [==============================] - 2s 602ms/step - loss: 3.1005e-05 - accuracy: 1.0000 - val_loss: 1.4776 - val_accuracy: 0.7333\n",
      "Epoch 69/100\n",
      "4/4 [==============================] - 2s 609ms/step - loss: 7.2956e-05 - accuracy: 1.0000 - val_loss: 2.2612 - val_accuracy: 0.5333\n",
      "Epoch 70/100\n",
      "4/4 [==============================] - 2s 596ms/step - loss: 2.0802e-05 - accuracy: 1.0000 - val_loss: 2.3888 - val_accuracy: 0.5667\n",
      "Epoch 71/100\n",
      "4/4 [==============================] - 2s 614ms/step - loss: 8.7679e-06 - accuracy: 1.0000 - val_loss: 1.9519 - val_accuracy: 0.6667\n",
      "Epoch 72/100\n",
      "4/4 [==============================] - 2s 600ms/step - loss: 7.5940e-06 - accuracy: 1.0000 - val_loss: 1.9282 - val_accuracy: 0.6667\n",
      "Epoch 73/100\n",
      "4/4 [==============================] - 2s 609ms/step - loss: 3.6010e-06 - accuracy: 1.0000 - val_loss: 2.0449 - val_accuracy: 0.6667\n",
      "Epoch 74/100\n",
      "4/4 [==============================] - 2s 616ms/step - loss: 4.5953e-06 - accuracy: 1.0000 - val_loss: 1.7372 - val_accuracy: 0.6667\n",
      "Epoch 75/100\n",
      "4/4 [==============================] - 2s 594ms/step - loss: 3.1809e-06 - accuracy: 1.0000 - val_loss: 1.9097 - val_accuracy: 0.6667\n",
      "Epoch 76/100\n",
      "4/4 [==============================] - 2s 617ms/step - loss: 2.4805e-06 - accuracy: 1.0000 - val_loss: 1.8764 - val_accuracy: 0.6667\n",
      "Epoch 77/100\n",
      "4/4 [==============================] - 2s 617ms/step - loss: 3.2759e-06 - accuracy: 1.0000 - val_loss: 2.1040 - val_accuracy: 0.6667\n",
      "Epoch 78/100\n",
      "4/4 [==============================] - 2s 622ms/step - loss: 2.0886e-05 - accuracy: 1.0000 - val_loss: 5.0960 - val_accuracy: 0.4000\n",
      "Epoch 79/100\n",
      "4/4 [==============================] - 2s 554ms/step - loss: 5.1315 - accuracy: 0.5250 - val_loss: 1.2469 - val_accuracy: 0.6000\n",
      "Epoch 80/100\n",
      "4/4 [==============================] - 3s 863ms/step - loss: 0.0498 - accuracy: 0.9917 - val_loss: 1.4754 - val_accuracy: 0.5333\n",
      "Epoch 81/100\n",
      "4/4 [==============================] - 3s 655ms/step - loss: 0.0038 - accuracy: 1.0000 - val_loss: 1.4964 - val_accuracy: 0.5000\n",
      "Epoch 82/100\n",
      "4/4 [==============================] - 3s 625ms/step - loss: 0.0014 - accuracy: 1.0000 - val_loss: 1.4236 - val_accuracy: 0.5667\n",
      "Epoch 83/100\n",
      "4/4 [==============================] - 2s 612ms/step - loss: 5.7599e-04 - accuracy: 1.0000 - val_loss: 1.5124 - val_accuracy: 0.6333\n",
      "Epoch 84/100\n",
      "4/4 [==============================] - 2s 544ms/step - loss: 0.0012 - accuracy: 1.0000 - val_loss: 1.8610 - val_accuracy: 0.5333\n",
      "Epoch 85/100\n",
      "4/4 [==============================] - 2s 402ms/step - loss: 4.5599e-04 - accuracy: 1.0000 - val_loss: 1.4512 - val_accuracy: 0.6000\n",
      "Epoch 86/100\n",
      "4/4 [==============================] - 2s 438ms/step - loss: 4.4193e-04 - accuracy: 1.0000 - val_loss: 2.1662 - val_accuracy: 0.5667\n",
      "Epoch 87/100\n",
      "4/4 [==============================] - 2s 425ms/step - loss: 2.7456e-04 - accuracy: 1.0000 - val_loss: 1.6254 - val_accuracy: 0.6000\n",
      "Epoch 88/100\n",
      "4/4 [==============================] - 2s 419ms/step - loss: 9.3116e-05 - accuracy: 1.0000 - val_loss: 1.5923 - val_accuracy: 0.5667\n",
      "Epoch 89/100\n",
      "4/4 [==============================] - 2s 407ms/step - loss: 2.4565e-04 - accuracy: 1.0000 - val_loss: 3.1978 - val_accuracy: 0.4000\n",
      "Epoch 90/100\n",
      "4/4 [==============================] - 2s 399ms/step - loss: 1.2233 - accuracy: 0.7333 - val_loss: 2.1184 - val_accuracy: 0.4333\n",
      "Epoch 91/100\n",
      "4/4 [==============================] - 2s 400ms/step - loss: 0.0247 - accuracy: 1.0000 - val_loss: 1.2557 - val_accuracy: 0.6333\n",
      "Epoch 92/100\n",
      "4/4 [==============================] - 2s 425ms/step - loss: 0.0011 - accuracy: 1.0000 - val_loss: 1.3537 - val_accuracy: 0.6667\n",
      "Epoch 93/100\n",
      "4/4 [==============================] - 2s 422ms/step - loss: 0.0013 - accuracy: 1.0000 - val_loss: 1.6284 - val_accuracy: 0.5667\n",
      "Epoch 94/100\n",
      "4/4 [==============================] - 2s 423ms/step - loss: 3.8047e-04 - accuracy: 1.0000 - val_loss: 1.6127 - val_accuracy: 0.5667\n",
      "Epoch 95/100\n",
      "4/4 [==============================] - 2s 433ms/step - loss: 3.6560e-04 - accuracy: 1.0000 - val_loss: 1.3013 - val_accuracy: 0.6667\n",
      "Epoch 96/100\n",
      "4/4 [==============================] - 2s 445ms/step - loss: 2.7413e-04 - accuracy: 1.0000 - val_loss: 1.8768 - val_accuracy: 0.5333\n",
      "Epoch 97/100\n",
      "4/4 [==============================] - 2s 427ms/step - loss: 1.0267e-04 - accuracy: 1.0000 - val_loss: 1.8507 - val_accuracy: 0.6000\n",
      "Epoch 98/100\n",
      "4/4 [==============================] - 2s 432ms/step - loss: 9.6767e-05 - accuracy: 1.0000 - val_loss: 1.9580 - val_accuracy: 0.5333\n",
      "Epoch 99/100\n",
      "4/4 [==============================] - 2s 423ms/step - loss: 8.9142e-05 - accuracy: 1.0000 - val_loss: 2.1311 - val_accuracy: 0.5333\n",
      "Epoch 100/100\n",
      "4/4 [==============================] - 2s 424ms/step - loss: 4.4682e-05 - accuracy: 1.0000 - val_loss: 2.0860 - val_accuracy: 0.5333\n"
     ]
    }
   ],
   "source": [
    "history = model.fit(train_list, train_res,epochs=100, validation_data=(test_list, test_res))\n"
   ]
  },
  {
   "cell_type": "code",
   "execution_count": 9,
   "metadata": {},
   "outputs": [
    {
     "name": "stdout",
     "output_type": "stream",
     "text": [
      "1/1 [==============================] - 0s 153ms/step\n",
      "[1 1 0 2 2 2 2 1 1 1 2 2 1 0 1 0 1 2 1 2 2 1 2 0 2 2 2 2 0 2]\n"
     ]
    }
   ],
   "source": [
    "cnn_predik = model.predict(test_list)\n",
    "cnn_predik = cnn_predik.tolist()\n",
    "cnn_true= []\n",
    "\n",
    "for i in cnn_predik:\n",
    "    x = max(i)\n",
    "    \n",
    "    cnn_true.append(i.index(x))\n",
    "\n",
    "cnn_true=numpy.array(cnn_true)\n",
    "print(cnn_true)"
   ]
  },
  {
   "cell_type": "code",
   "execution_count": 10,
   "metadata": {},
   "outputs": [
    {
     "name": "stdout",
     "output_type": "stream",
     "text": [
      "53.333333333333336\n"
     ]
    }
   ],
   "source": [
    "from sklearn.metrics import accuracy_score, confusion_matrix\n",
    "from sklearn.metrics import classification_report\n",
    "\n",
    "cnn_acc = accuracy_score(test_res, cnn_true)\n",
    "print(cnn_acc*100)"
   ]
  },
  {
   "cell_type": "code",
   "execution_count": 11,
   "metadata": {},
   "outputs": [
    {
     "name": "stdout",
     "output_type": "stream",
     "text": [
      "------------------------ confusion matrix  ------------------------------\n",
      "[[3 1 7]\n",
      " [2 8 3]\n",
      " [0 1 5]]\n",
      "--------------------- classification report  ----------------------------\n",
      "              precision    recall  f1-score   support\n",
      "\n",
      "         0.0       0.60      0.27      0.37        11\n",
      "         1.0       0.80      0.62      0.70        13\n",
      "         2.0       0.33      0.83      0.48         6\n",
      "\n",
      "    accuracy                           0.53        30\n",
      "   macro avg       0.58      0.57      0.52        30\n",
      "weighted avg       0.63      0.53      0.53        30\n",
      "\n"
     ]
    }
   ],
   "source": [
    "\n",
    "print('------------------------ confusion matrix  ------------------------------')\n",
    "label=[0,1,2]\n",
    "label = numpy.array(label)\n",
    "cf_matrix=confusion_matrix(test_res, cnn_true)\n",
    "print(cf_matrix)\n",
    "print('--------------------- classification report  ----------------------------')\n",
    "print(classification_report(test_res, cnn_true))"
   ]
  },
  {
   "cell_type": "code",
   "execution_count": 14,
   "metadata": {},
   "outputs": [
    {
     "data": {
      "image/png": "[encoded data removed]",
      "text/plain": [
       "<Figure size 432x288 with 2 Axes>"
      ]
     },
     "metadata": {
      "needs_background": "light"
     },
     "output_type": "display_data"
    }
   ],
   "source": [
    "import seaborn as sns\n",
    "\n",
    "ax = sns.heatmap(cf_matrix, annot=True, cmap='Oranges')\n",
    "\n",
    "ax.set_title('CNN with LBP\\n');\n",
    "ax.set_xlabel('Predicted Values')\n",
    "ax.set_ylabel('Actual Values ')\n",
    "\n",
    "## Ticket labels - List must be in alphabetical order\n",
    "ax.xaxis.set_ticklabels([0,1,2])\n",
    "ax.yaxis.set_ticklabels([0,1,2])\n",
    "\n",
    "## Display the visualization of the Confusion Matrix.\n",
    "pyplot.show()"
   ]
  },
  {
   "cell_type": "code",
   "execution_count": 13,
   "metadata": {},
   "outputs": [
    {
     "name": "stdout",
     "output_type": "stream",
     "text": [
      "1/1 [==============================] - 0s 78ms/step - loss: 2.0860 - accuracy: 0.5333\n",
      "0.5333333611488342\n"
     ]
    }
   ],
   "source": [
    "test_loss, test_acc = model.evaluate(test_list, test_res)\n",
    "print(test_acc)"
   ]
  }
 ],
 "metadata": {
  "interpreter": {
   "hash": "59b2c0827d8e9591c4a6d7ac85eed7a75f97299fec805ac660790fd578a10b43"
  },
  "kernelspec": {
   "display_name": "Python 3.10.2 64-bit",
   "language": "python",
   "name": "python3"
  },
  "language_info": {
   "codemirror_mode": {
    "name": "ipython",
    "version": 3
   },
   "file_extension": ".py",
   "mimetype": "text/x-python",
   "name": "python",
   "nbconvert_exporter": "python",
   "pygments_lexer": "ipython3",
   "version": "3.10.2"
  },
  "orig_nbformat": 4
 },
 "nbformat": 4,
 "nbformat_minor": 2
}
